{
 "cells": [
  {
   "cell_type": "markdown",
   "metadata": {},
   "source": [
    "## Anotações\n",
    "### **Definição Básica de Pipeline:** <br>\n",
    "\n",
    "Uma instância de pipeline é composta de um name,parameters, esteps. Os nomes de pipeline devem ser exclusivos dentro de um (account, region)Par. Todos os parâmetros usados nas definições de etapa devem ser definidos no pipeline. As etapas passadas para o pipeline não precisam ser listadas na ordem de execução porque as próprias etapas definem as relações entre elas usando dependências de dados. O serviço SageMaker Pipelines resolve as relações entre as etapas no DAG de dependência de dados para criar uma série de etapas concluídas pela execução. <br>\n",
    "\n",
    "#### **Estrutura Básica de uma Pipeline:** \n",
    "```python\n",
    "from sagemaker.workflow.pipeline import Pipeline\n",
    "\n",
    "pipeline_name = f\"AbalonePipeline\"\n",
    "pipeline = Pipeline(\n",
    "    name=pipeline_name,\n",
    "    parameters=[\n",
    "        processing_instance_type, \n",
    "        processing_instance_count,\n",
    "        training_instance_type,\n",
    "        model_approval_status,\n",
    "        input_data,\n",
    "        batch_data,\n",
    "    ],\n",
    "    steps=[step_process, step_train, step_eval, step_cond],\n",
    ")\n",
    "```\n",
    "\n",
    "### **Passos de uma Pipeline:**<br>\n",
    "Os Pipelines SageMaker são compostos por etapas. Essas etapas definem as ações que o pipeline executa e as relações entre as etapas usando propriedades.<br>\n",
    "\n",
    "#### **Tipos de etapas:**<br>\n",
    "\n",
    "Existem tipos de etapas em um processo de criação de pipeline. Os pipelines de criação de modelos do Amazon SageMaker suportam os seguintes tipos de etapas:<br>\n",
    "* **Processamento (ProcessingStep):** Esse etapa serve para criar um trabalho de processamento e tratamento  de dadods;\n",
    "* **Treinamento (TrainingStep):** Essa etapa serve para criar um fluxo de trabalho de treinamento para um modelo.\n",
    "* **Ajuste (TuningStep):** Etapa de ajuste serve para criar um trabalho de ajuste de hiperparâmetro, também conhecido como otimização de hiperparâmetro (HPO). Um trabalho de ajuste de hiperparâmetro executa vários trabalhos de treinamento, cada um produzindo uma versão de modelo.\n",
    "* **CreateModel (CreateModelStep):** Etapa de criação de modelo\n",
    "* **RegisterModel (RegisterModel):** Usa uma etapa de modelo de registro para registrar um SageMaker.model.modelou um SageMaker.Pipeline.PipelineModelcom o registro do modelo do Amazon SageMaker.\n",
    "* **Transformação (TransformStep):** Use-se uma etapa de transformação para a transformação em lote para executar inferência em um conjunto de dados inteiro.\n",
    "* **Condição (ConditionStep):** Use uma etapa de condição para avaliar a condição das propriedades da etapa para avaliar qual ação deve ser tomada em seguida no pipeline.\n",
    "* **Retorno de Chamada ():** Use uma etapa de retorno de chamada para incorporar processos adicionais eAWSem seu fluxo de trabalho que não são fornecidos diretamente pelo Amazon SageMaker Model Building Pipelines.\n",
    "* **Lambda ():** Você usa uma etapa lambda para executar um AWS Lambda função. Você pode executar uma função existente do Lambda, ou o SageMaker pode criar e executar uma nova função do Lambda."
   ]
  },
  {
   "cell_type": "markdown",
   "metadata": {},
   "source": [
    "---\n",
    "### Definindo as Variáveis constantes "
   ]
  },
  {
   "cell_type": "code",
   "execution_count": 37,
   "metadata": {},
   "outputs": [],
   "source": [
    "import boto3\n",
    "import sagemaker\n",
    "\n",
    "\n",
    "region = boto3.Session().region_name\n",
    "sagemaker_session = sagemaker.session.Session()\n",
    "role = sagemaker.get_execution_role()\n",
    "default_bucket = 'pipeline-wine'\n",
    "\n",
    "model_package_group_name = \"PipelineModelWine\"\n",
    "prefix = \"pipeline-model-wine\"\n",
    "pipeline_name = \"TrainingPipelineForModel\"\n",
    "#input_data_uri = 's3://pipeline-demo-wine/input/wine.data'\n",
    "input_data_uri = 's3://pipeline-demo-wine/input/raw.csv'"
   ]
  },
  {
   "cell_type": "markdown",
   "metadata": {},
   "source": [
    "---\n",
    "### Definindo os parâmetros paro o Pipeline"
   ]
  },
  {
   "cell_type": "code",
   "execution_count": 38,
   "metadata": {},
   "outputs": [],
   "source": [
    "from sagemaker.workflow.parameters import ParameterInteger, ParameterString, ParameterFloat\n",
    "\n",
    "# Quantidade de instâncias de processamento\n",
    "processing_instance_count = ParameterInteger(name='ProcessingInstanceCount', default_value = 1)\n",
    "# Podemos escolher instâncias para cada tipo de processo que queremos\n",
    "processing_instance_type  = ParameterString(name='ProcessingInstanceType', default_value='ml.m5.xlarge')\n",
    "training_instance_type =  ParameterString(name=\"TrainingInstanceType\", default_value=\"ml.m5.xlarge\")\n",
    "# Status do modelo\n",
    "model_approval_status     = ParameterString(name='ModelApprovalStatus', default_value='PendingManualApproval')\n",
    "# Caminho dos dados brutos\n",
    "input_data                = ParameterString(name='InputData', default_value=input_data_uri)"
   ]
  },
  {
   "cell_type": "markdown",
   "metadata": {},
   "source": [
    "---\n",
    "### Script de Pré-Processamento"
   ]
  },
  {
   "cell_type": "code",
   "execution_count": 39,
   "metadata": {},
   "outputs": [],
   "source": [
    "!mkdir -p scripts"
   ]
  },
  {
   "cell_type": "code",
   "execution_count": 40,
   "metadata": {},
   "outputs": [
    {
     "name": "stdout",
     "output_type": "stream",
     "text": [
      "Overwriting scripts/preprocessing.py\n"
     ]
    }
   ],
   "source": [
    "%%writefile scripts/preprocessing.py\n",
    "import pandas as pd\n",
    "import numpy as np\n",
    "from sklearn.pipeline import Pipeline\n",
    "from sklearn.preprocessing import StandardScaler\n",
    "from sklearn.model_selection import train_test_split\n",
    "\n",
    "if __name__ == \"__main__\":\n",
    "    base_dir = \"/opt/ml/processing\"\n",
    "    print('lendo a base')\n",
    "    #df = pd.read_csv(f\"{base_dir}/input/wine.data\", header=None)\n",
    "    df = pd.read_csv(f\"{base_dir}/input/raw.csv\")\n",
    "    #Separando os atributos e a target\n",
    "    print(df.columns)\n",
    "    print(df['0'].value_counts)\n",
    "    print('separando x e y')\n",
    "    y, x = df.iloc[:, 0], df.iloc[:, 1:]\n",
    "    #Separando entre treino e teste\n",
    "    X_train, X_test, y_train, y_test = train_test_split(x, y,random_state=0, test_size=0.2)\n",
    "    #Criando pipeline para normalizar os dados\n",
    "    print('Criando pipeline')\n",
    "    pipe = Pipeline([('scaler', StandardScaler())])\n",
    "    X_train_processed = pipe.fit_transform(X_train)\n",
    "    X_test_processed = pipe.transform(X_test)\n",
    "    y_train = y_train.to_numpy().reshape(len(y_train), 1)\n",
    "    y_test = y_test.to_numpy().reshape(len(y_test), 1)\n",
    "    print('Consolidando os dados de treino, teste e validação')\n",
    "    #Consolidando os dados de treino, teste e validação\n",
    "    df_train = pd.DataFrame(np.concatenate((y_train, X_train_processed), axis=1))\n",
    "    df_test = np.concatenate((y_test, X_test_processed), axis=1)\n",
    "    #Dividindo entre teste e validação\n",
    "    print('Dividindo entre teste e validação')\n",
    "    test, validation = np.split(df_test, 2)\n",
    "    #Salvando os dados de treino, teste e validação\n",
    "    print('Salvando os dados de treino, teste e validação')\n",
    "    pd.DataFrame(df_train).to_csv(f\"{base_dir}/train/train.csv\", header=False, index=False)\n",
    "    pd.DataFrame(validation).to_csv(\n",
    "        f\"{base_dir}/validation/validation.csv\", header=False, index=False\n",
    "    )\n",
    "    pd.DataFrame(test).to_csv(f\"{base_dir}/test/test.csv\", header=False, index=False)"
   ]
  },
  {
   "cell_type": "markdown",
   "metadata": {},
   "source": [
    "---\n",
    "### Definindo Processamento"
   ]
  },
  {
   "cell_type": "code",
   "execution_count": 41,
   "metadata": {},
   "outputs": [],
   "source": [
    "from sagemaker.sklearn.processing import SKLearnProcessor\n",
    "\n",
    "\n",
    "framework_version = \"0.23-1\"\n",
    "\n",
    "sklearn_processor = SKLearnProcessor(\n",
    "    framework_version=framework_version,\n",
    "    instance_type=processing_instance_type,\n",
    "    instance_count=processing_instance_count,\n",
    "    base_job_name=\"sklearn-wine-process\",\n",
    "    role=role\n",
    ")"
   ]
  },
  {
   "cell_type": "code",
   "execution_count": 42,
   "metadata": {},
   "outputs": [],
   "source": [
    "from sagemaker.processing import ProcessingInput, ProcessingOutput\n",
    "from sagemaker.workflow.steps import ProcessingStep\n",
    "from sagemaker.workflow.steps import CacheConfig\n",
    "cache_config = CacheConfig(enable_caching=True, expire_after=\"PT1H\")\n",
    "step_process = ProcessingStep(\n",
    "    name=\"WineProcess\",\n",
    "    processor=sklearn_processor,\n",
    "    inputs=[\n",
    "        ProcessingInput(source=input_data, destination=\"/opt/ml/processing/input\"),\n",
    "    ],\n",
    "    outputs=[\n",
    "        ProcessingOutput(output_name=\"train\", source=\"/opt/ml/processing/train\"),\n",
    "        ProcessingOutput(output_name=\"validation\", source=\"/opt/ml/processing/validation\"),\n",
    "        ProcessingOutput(output_name=\"test\", source=\"/opt/ml/processing/test\"),\n",
    "    ],\n",
    "    code=\"scripts/preprocessing.py\",\n",
    "    cache_config=cache_config\n",
    ")"
   ]
  },
  {
   "cell_type": "markdown",
   "metadata": {},
   "source": [
    "---\n",
    "### Treinamento do Modelo"
   ]
  },
  {
   "cell_type": "code",
   "execution_count": 43,
   "metadata": {},
   "outputs": [],
   "source": [
    "from sagemaker.estimator import Estimator\n",
    "\n",
    "\n",
    "model_path = f\"s3://{default_bucket}/WineTrain\"\n",
    "image_uri = sagemaker.image_uris.retrieve(\n",
    "    framework=\"xgboost\",\n",
    "    region=region,\n",
    "    version=\"1.2-2\",\n",
    "    py_version=\"py3\",\n",
    "    instance_type=training_instance_type,\n",
    ")\n",
    "xgb_train = Estimator(\n",
    "    image_uri=image_uri,\n",
    "    instance_type=training_instance_type,\n",
    "    instance_count=1,\n",
    "    output_path=model_path,\n",
    "    role=role,\n",
    "    disable_profiler=True\n",
    ")\n",
    "num_labels = 3\n",
    "xgb_train.set_hyperparameters(\n",
    "    max_depth = 5,\n",
    "    eta = 0.2,\n",
    "    gamma = 4,\n",
    "    min_child_weight = 6,\n",
    "    objective = \"multi:softprob\",\n",
    "    num_class = num_labels,\n",
    "    num_round = 10\n",
    ")"
   ]
  },
  {
   "cell_type": "code",
   "execution_count": 44,
   "metadata": {},
   "outputs": [],
   "source": [
    "from sagemaker.inputs import TrainingInput\n",
    "from sagemaker.workflow.steps import TrainingStep\n",
    "\n",
    "step_train = TrainingStep(\n",
    "    name=\"WineTrain\",\n",
    "    estimator=xgb_train,\n",
    "    inputs={\n",
    "        \"train\": TrainingInput(\n",
    "            s3_data=step_process.properties.ProcessingOutputConfig.Outputs[\"train\"].S3Output.S3Uri,\n",
    "            content_type=\"text/csv\"\n",
    "        ),\n",
    "        \"validation\": TrainingInput(\n",
    "            s3_data=step_process.properties.ProcessingOutputConfig.Outputs[\"validation\"].S3Output.S3Uri,\n",
    "            content_type=\"text/csv\"\n",
    "        )\n",
    "    },\n",
    "    cache_config=cache_config\n",
    ")"
   ]
  },
  {
   "cell_type": "markdown",
   "metadata": {},
   "source": [
    "---\n",
    "### Script de Evolução do Modelo"
   ]
  },
  {
   "cell_type": "code",
   "execution_count": 45,
   "metadata": {},
   "outputs": [
    {
     "name": "stdout",
     "output_type": "stream",
     "text": [
      "Overwriting scripts/evaluation.py\n"
     ]
    }
   ],
   "source": [
    "%%writefile scripts/evaluation.py\n",
    "import json\n",
    "import pathlib\n",
    "import pickle\n",
    "import tarfile\n",
    "\n",
    "import joblib\n",
    "import numpy as np\n",
    "import pandas as pd\n",
    "import xgboost\n",
    "\n",
    "from sklearn.metrics import accuracy_score, f1_score, precision_score, recall_score\n",
    "\n",
    "\n",
    "if __name__ == \"__main__\":\n",
    "    print('lendo o modelo')\n",
    "    model_path = f\"/opt/ml/processing/model/model.tar.gz\"\n",
    "    with tarfile.open(model_path) as tar:\n",
    "        tar.extractall(path=\".\")\n",
    "        \n",
    "    model = pickle.load(open(\"xgboost-model\", \"rb\"))\n",
    "    print('lendo base de teste')\n",
    "    test_path = \"/opt/ml/processing/test/test.csv\"\n",
    "    df = pd.read_csv(test_path, header=None)\n",
    "    \n",
    "    y_test = df.iloc[:, 0].to_numpy()\n",
    "    #df.drop(columns=[0], inplace=True)\n",
    "    x = df.iloc[:, 1:]\n",
    "    X_test = xgboost.DMatrix(x.values)\n",
    "\n",
    "    predictions = model.predict(X_test)\n",
    "    print(predictions)\n",
    "    predictions = np.array(predictions)\n",
    "    y_pred = []\n",
    "    for i in predictions:\n",
    "        pred = np.where(i == max(i))[0][0]\n",
    "        y_pred.append(pred)\n",
    "    print('calculo acurácia')\n",
    "    acuracia = accuracy_score(y_test, y_pred)\n",
    "    #f1 = f1_score(y_test, predictions)\n",
    "    #precisao = precision_score(y_test, predictions)\n",
    "    #recall = recall_score(y_test, predictions)\n",
    "    print(acuracia)\n",
    "    report_dict = {\n",
    "        \"classification_wine_metrics\": {\n",
    "            \"acuracia\": {\"value\":acuracia,\"standard_deviation\": \"NaN\"}\n",
    "        }\n",
    "    }\n",
    "    print('Salvando as métricas')\n",
    "    output_dir = \"/opt/ml/processing/evaluation\"\n",
    "    pathlib.Path(output_dir).mkdir(parents=True, exist_ok=True)\n",
    "    \n",
    "    evaluation_path = f\"{output_dir}/evaluation.json\"\n",
    "    with open(evaluation_path, \"w\") as f:\n",
    "        f.write(json.dumps(report_dict))"
   ]
  },
  {
   "cell_type": "markdown",
   "metadata": {},
   "source": [
    "---\n",
    "### Etapa de evolução do modelo"
   ]
  },
  {
   "cell_type": "code",
   "execution_count": 46,
   "metadata": {},
   "outputs": [],
   "source": [
    "from sagemaker.processing import ScriptProcessor\n",
    "\n",
    "script_eval = ScriptProcessor(\n",
    "    image_uri=image_uri,\n",
    "    command=[\"python3\"],\n",
    "    instance_type=processing_instance_type,\n",
    "    instance_count=1,\n",
    "    base_job_name=\"script-wine-evaluation\",\n",
    "    role=role,\n",
    ")"
   ]
  },
  {
   "cell_type": "code",
   "execution_count": 47,
   "metadata": {},
   "outputs": [],
   "source": [
    "from sagemaker.workflow.properties import PropertyFile\n",
    "\n",
    "\n",
    "evaluation_report = PropertyFile(\n",
    "    name=\"EvaluationReport\", output_name=\"evaluation\", path=\"evaluation.json\"\n",
    ")\n",
    "step_eval = ProcessingStep(\n",
    "    name=\"WineEvaluation\",\n",
    "    processor=script_eval,\n",
    "    inputs=[\n",
    "        ProcessingInput(\n",
    "            source=step_train.properties.ModelArtifacts.S3ModelArtifacts,\n",
    "            destination=\"/opt/ml/processing/model\"\n",
    "        ),\n",
    "        ProcessingInput(\n",
    "            source=step_process.properties.ProcessingOutputConfig.Outputs[\"test\"].S3Output.S3Uri,\n",
    "            destination=\"/opt/ml/processing/test\"\n",
    "        ),\n",
    "    ],\n",
    "    outputs=[\n",
    "        ProcessingOutput(output_name=\"evaluation\", source=\"/opt/ml/processing/evaluation\")\n",
    "    ],\n",
    "    code=\"scripts/evaluation.py\",\n",
    "    property_files=[evaluation_report]\n",
    ")"
   ]
  },
  {
   "cell_type": "markdown",
   "metadata": {},
   "source": [
    "---\n",
    "### Etapa de Registrar o Modelo"
   ]
  },
  {
   "cell_type": "code",
   "execution_count": 48,
   "metadata": {},
   "outputs": [],
   "source": [
    "from sagemaker.model_metrics import MetricsSource, ModelMetrics\n",
    "from sagemaker.workflow.step_collections import RegisterModel\n",
    "\n",
    "\n",
    "model_metrics = ModelMetrics(\n",
    "    model_statistics=MetricsSource(\n",
    "        s3_uri=\"{}/evaluation.json\".format(\n",
    "            step_eval.arguments[\"ProcessingOutputConfig\"][\"Outputs\"][0][\"S3Output\"][\"S3Uri\"]\n",
    "        ),\n",
    "        content_type=\"application/json\",\n",
    "    )\n",
    ")\n",
    "step_register = RegisterModel(\n",
    "    name=\"WineRegisterModel\",\n",
    "    estimator=xgb_train,\n",
    "    model_data=step_train.properties.ModelArtifacts.S3ModelArtifacts,\n",
    "    content_types=[\"text/csv\"],\n",
    "    response_types=[\"text/csv\"],\n",
    "    inference_instances=[\"ml.t2.medium\", \"ml.m5.xlarge\"],\n",
    "    transform_instances=[\"ml.m5.xlarge\"],\n",
    "    model_package_group_name=model_package_group_name,\n",
    "    approval_status=model_approval_status,\n",
    "    model_metrics=model_metrics \n",
    ")"
   ]
  },
  {
   "cell_type": "markdown",
   "metadata": {},
   "source": [
    "---\n",
    "### Etapa Condicional"
   ]
  },
  {
   "cell_type": "code",
   "execution_count": 49,
   "metadata": {},
   "outputs": [],
   "source": [
    "from sagemaker.workflow.conditions import ConditionGreaterThanOrEqualTo\n",
    "from sagemaker.workflow.condition_step import ConditionStep\n",
    "from sagemaker.workflow.functions import JsonGet\n",
    "\n",
    "\n",
    "cond_lte = ConditionGreaterThanOrEqualTo(\n",
    "    left=JsonGet(\n",
    "        step_name=step_eval.name,\n",
    "        property_file=evaluation_report,\n",
    "        json_path=\"classification_wine_metrics.acuracia.value\",\n",
    "    ),\n",
    "    right=0.7,\n",
    ")\n",
    "\n",
    "step_cond = ConditionStep(\n",
    "    name=\"WineAccuracyCond\",\n",
    "    conditions=[cond_lte],\n",
    "    if_steps=[step_register],\n",
    "    else_steps=[],\n",
    ")"
   ]
  },
  {
   "cell_type": "markdown",
   "metadata": {},
   "source": [
    "### Criando Pipeline"
   ]
  },
  {
   "cell_type": "code",
   "execution_count": 50,
   "metadata": {},
   "outputs": [],
   "source": [
    "from sagemaker.workflow.pipeline import Pipeline\n",
    "\n",
    "\n",
    "pipeline_name = f\"WinePipeline\"\n",
    "pipeline = Pipeline(\n",
    "    name=pipeline_name,\n",
    "    parameters=[\n",
    "        processing_instance_type,\n",
    "        training_instance_type,\n",
    "        processing_instance_count,\n",
    "        model_approval_status,\n",
    "        input_data\n",
    "    ],\n",
    "    steps=[step_process, step_train, step_eval, step_cond]\n",
    ")"
   ]
  },
  {
   "cell_type": "code",
   "execution_count": 51,
   "metadata": {},
   "outputs": [
    {
     "name": "stderr",
     "output_type": "stream",
     "text": [
      "No finished training job found associated with this estimator. Please make sure this estimator is only used for building workflow config\n",
      "No finished training job found associated with this estimator. Please make sure this estimator is only used for building workflow config\n"
     ]
    },
    {
     "data": {
      "text/plain": [
       "[{'StepName': 'WineRegisterModel',\n",
       "  'StartTime': datetime.datetime(2022, 1, 9, 14, 8, 16, 342000, tzinfo=tzlocal()),\n",
       "  'EndTime': datetime.datetime(2022, 1, 9, 14, 8, 17, 434000, tzinfo=tzlocal()),\n",
       "  'StepStatus': 'Succeeded',\n",
       "  'AttemptCount': 0,\n",
       "  'Metadata': {'RegisterModel': {'Arn': 'arn:aws:sagemaker:us-east-2:130962303082:model-package/pipelinemodelwine/3'}}},\n",
       " {'StepName': 'WineAccuracyCond',\n",
       "  'StartTime': datetime.datetime(2022, 1, 9, 14, 8, 15, 372000, tzinfo=tzlocal()),\n",
       "  'EndTime': datetime.datetime(2022, 1, 9, 14, 8, 15, 705000, tzinfo=tzlocal()),\n",
       "  'StepStatus': 'Succeeded',\n",
       "  'AttemptCount': 0,\n",
       "  'Metadata': {'Condition': {'Outcome': 'True'}}},\n",
       " {'StepName': 'WineEvaluation',\n",
       "  'StartTime': datetime.datetime(2022, 1, 9, 14, 3, 51, 816000, tzinfo=tzlocal()),\n",
       "  'EndTime': datetime.datetime(2022, 1, 9, 14, 8, 10, 565000, tzinfo=tzlocal()),\n",
       "  'StepStatus': 'Succeeded',\n",
       "  'AttemptCount': 0,\n",
       "  'Metadata': {'ProcessingJob': {'Arn': 'arn:aws:sagemaker:us-east-2:130962303082:processing-job/pipelines-c5ojpszlsa4f-wineevaluation-hatbctqxgc'}}},\n",
       " {'StepName': 'WineTrain',\n",
       "  'StartTime': datetime.datetime(2022, 1, 9, 14, 0, 34, 242000, tzinfo=tzlocal()),\n",
       "  'EndTime': datetime.datetime(2022, 1, 9, 14, 3, 50, 831000, tzinfo=tzlocal()),\n",
       "  'StepStatus': 'Succeeded',\n",
       "  'AttemptCount': 0,\n",
       "  'Metadata': {'TrainingJob': {'Arn': 'arn:aws:sagemaker:us-east-2:130962303082:training-job/pipelines-c5ojpszlsa4f-winetrain-zgr3vjbdec'}}},\n",
       " {'StepName': 'WineProcess',\n",
       "  'StartTime': datetime.datetime(2022, 1, 9, 13, 56, 39, 474000, tzinfo=tzlocal()),\n",
       "  'EndTime': datetime.datetime(2022, 1, 9, 14, 0, 33, 210000, tzinfo=tzlocal()),\n",
       "  'StepStatus': 'Succeeded',\n",
       "  'AttemptCount': 0,\n",
       "  'Metadata': {'ProcessingJob': {'Arn': 'arn:aws:sagemaker:us-east-2:130962303082:processing-job/pipelines-c5ojpszlsa4f-wineprocess-s8aqzrlynd'}}}]"
      ]
     },
     "execution_count": 51,
     "metadata": {},
     "output_type": "execute_result"
    }
   ],
   "source": [
    "pipeline.upsert(role_arn=role)\n",
    "execution = pipeline.start()\n",
    "execution.wait()"
   ]
  },
  {
   "cell_type": "markdown",
   "metadata": {},
   "source": [
    "---"
   ]
  }
 ],
 "metadata": {
  "instance_type": "ml.t3.medium",
  "kernelspec": {
   "display_name": "Python 3 (Data Science)",
   "language": "python",
   "name": "python3__SAGEMAKER_INTERNAL__arn:aws:sagemaker:us-east-2:429704687514:image/datascience-1.0"
  },
  "language_info": {
   "codemirror_mode": {
    "name": "ipython",
    "version": 3
   },
   "file_extension": ".py",
   "mimetype": "text/x-python",
   "name": "python",
   "nbconvert_exporter": "python",
   "pygments_lexer": "ipython3",
   "version": "3.7.10"
  }
 },
 "nbformat": 4,
 "nbformat_minor": 4
}
